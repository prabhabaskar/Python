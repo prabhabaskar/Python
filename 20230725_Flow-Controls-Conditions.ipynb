{
 "cells": [
  {
   "cell_type": "code",
   "execution_count": null,
   "id": "75796c34",
   "metadata": {},
   "outputs": [],
   "source": [
    "Flow control:\n",
    "    1. Conditional statements --> if, elif, else\n",
    "        a. We can use the if only once in the program\n",
    "        b. We use elif condition in many times.\n",
    "        c. else is not must for all statements.\n",
    "    2. Transfer statements  --> Break, Continue, Pars\n",
    "    3. Iterative Statements  --> For, While\n",
    "    \n",
    "1. Contional statements:\n",
    "    If(singale space)Condition(a>b)Colon(must):<enter>\n",
    "    <tab>==4Space then print(\"\")"
   ]
  },
  {
   "cell_type": "code",
   "execution_count": 4,
   "id": "cb2f8857",
   "metadata": {},
   "outputs": [
    {
     "name": "stdout",
     "output_type": "stream",
     "text": [
      "Enter the num_1: 25\n",
      "Enter the num_2: 20\n",
      "b is the small number\n"
     ]
    }
   ],
   "source": [
    "a=int(input(\"Enter the num_1: \"))\n",
    "b=int(input(\"Enter the num_2: \"))\n",
    "\n",
    "if a<b:\n",
    "    print(\"a is the small number\")\n",
    "else:\n",
    "    print(\"b is the small number\")"
   ]
  },
  {
   "cell_type": "code",
   "execution_count": 7,
   "id": "afd5522d",
   "metadata": {},
   "outputs": [
    {
     "name": "stdout",
     "output_type": "stream",
     "text": [
      "Pleas enter your name: Prasanth\n",
      "Hi\n"
     ]
    }
   ],
   "source": [
    "a=input(\"Pleas enter your name: \")\n",
    "\n",
    "if a==\"Rukesh\":\n",
    "    print(\"Hai, Rukesh\")\n",
    "elif a==\"Abinaya\":\n",
    "    print(\"Hello, abi\")\n",
    "elif a==\"Prasanth\":\n",
    "    print(\"Hi\")\n",
    "else:\n",
    "    print(\"Good Bye!!!\")"
   ]
  },
  {
   "cell_type": "code",
   "execution_count": 9,
   "id": "36e41318",
   "metadata": {},
   "outputs": [
    {
     "name": "stdout",
     "output_type": "stream",
     "text": [
      "Pleas enter your name: Rukesh\n",
      "Hai, Rukesh\n",
      "Are you busy\n"
     ]
    }
   ],
   "source": [
    "a=input(\"Pleas enter your name: \")\n",
    "\n",
    "if a==\"Rukesh\":\n",
    "    print(\"Hai, Rukesh\")\n",
    "    print(\"Are you busy\")\n",
    "elif a==\"Abinaya\":\n",
    "    print(\"Hello, abi\")\n",
    "elif a==\"Prasanth\":\n",
    "    print(\"Hi\")\n",
    "else:\n",
    "    print(\"Good Bye!!!\")"
   ]
  },
  {
   "cell_type": "code",
   "execution_count": 7,
   "id": "6f7c07b8",
   "metadata": {},
   "outputs": [
    {
     "name": "stdout",
     "output_type": "stream",
     "text": [
      "Enter your salary: 10000\n",
      "Bus\n"
     ]
    }
   ],
   "source": [
    "salary=int(input(\"Enter your salary: \"))\n",
    "\n",
    "if salary in range(100,10000):\n",
    "    print(\"Walk\")\n",
    "elif salary in range(10000,25001):\n",
    "    print(\"Bus\")\n",
    "elif salary in range(25000,50000):\n",
    "    print(\"Train\")\n",
    "elif salary >50000:\n",
    "    Print(\"Car\")\n",
    "else:\n",
    "    print(\"NA\")"
   ]
  },
  {
   "cell_type": "code",
   "execution_count": null,
   "id": "a909cf9a",
   "metadata": {},
   "outputs": [],
   "source": [
    "We can give more if but the last if follows the first elif or else.\n"
   ]
  },
  {
   "cell_type": "code",
   "execution_count": 9,
   "id": "c8d557a8",
   "metadata": {},
   "outputs": [
    {
     "name": "stdout",
     "output_type": "stream",
     "text": [
      "Enter your salary: 101\n",
      "Walk\n",
      "Bicycle\n"
     ]
    }
   ],
   "source": [
    "salary=int(input(\"Enter your salary: \"))\n",
    "\n",
    "if salary in range(100,10000):\n",
    "    print(\"Walk\")\n",
    "if salary >100:\n",
    "    print(\"Bicycle\")\n",
    "elif salary in range(10000,25001):\n",
    "    print(\"Bus\")\n",
    "elif salary in range(25000,50000):\n",
    "    print(\"Train\")\n",
    "elif salary >50000:\n",
    "    Print(\"Car\")\n",
    "else:\n",
    "    print(\"NA\")"
   ]
  },
  {
   "cell_type": "code",
   "execution_count": null,
   "id": "ce1b6087",
   "metadata": {},
   "outputs": [],
   "source": [
    "6. Create a simple grading system that takes a student's score and outputs their corresponding letter grade (A, B, C, D, or F)."
   ]
  },
  {
   "cell_type": "code",
   "execution_count": 18,
   "id": "c7180f82",
   "metadata": {},
   "outputs": [
    {
     "name": "stdout",
     "output_type": "stream",
     "text": [
      "Enter your total mark: 179\n",
      "Fail\n"
     ]
    }
   ],
   "source": [
    "a=int(input(\"Enter your total mark: \"))\n",
    "if a in range(450,501):\n",
    "      print(\"Grade A\")\n",
    "elif a in range(350,451):\n",
    "      print(\"Grade B\")\n",
    "elif a in range(250,351):\n",
    "      print(\"Grade C\")\n",
    "elif a in range(180,251):\n",
    "      print(\"Grade D\")\n",
    "elif a<=180:\n",
    "      print(\"Fail\")"
   ]
  },
  {
   "cell_type": "code",
   "execution_count": null,
   "id": "2a0917f9",
   "metadata": {},
   "outputs": [],
   "source": [
    "1. Write a program to check if a given number is positive, negative, or zero."
   ]
  },
  {
   "cell_type": "code",
   "execution_count": 20,
   "id": "4fc7b706",
   "metadata": {},
   "outputs": [
    {
     "name": "stdout",
     "output_type": "stream",
     "text": [
      "Enter a Number: 1\n",
      "Positive\n"
     ]
    }
   ],
   "source": [
    "a=int(input(\"Enter a Number: \"))\n",
    "if a>0:\n",
    "   print(\"Positive\")\n",
    "elif a<0:\n",
    "   print(\"Negative\")\n",
    "elif a==0:\n",
    "   print(\"Zero\")"
   ]
  },
  {
   "cell_type": "code",
   "execution_count": null,
   "id": "609ed941",
   "metadata": {},
   "outputs": [],
   "source": [
    "2. Create a program to determine if a user's input is even or odd."
   ]
  },
  {
   "cell_type": "code",
   "execution_count": 27,
   "id": "a24009ec",
   "metadata": {},
   "outputs": [
    {
     "name": "stdout",
     "output_type": "stream",
     "text": [
      "Enter a Number: 100\n",
      "Even\n"
     ]
    }
   ],
   "source": [
    "a=int(input(\"Enter a Number: \"))\n",
    "if a%2==0:\n",
    "   print(\"Even\")\n",
    "else:\n",
    "   print(\"Odd\")"
   ]
  },
  {
   "cell_type": "code",
   "execution_count": null,
   "id": "e142fd3a",
   "metadata": {},
   "outputs": [],
   "source": [
    "3. Write a program that asks the user for their age and displays whether they are a child, teenager, or an adult."
   ]
  },
  {
   "cell_type": "code",
   "execution_count": 30,
   "id": "af437134",
   "metadata": {},
   "outputs": [
    {
     "name": "stdout",
     "output_type": "stream",
     "text": [
      "Enter your age: 99\n",
      "Adult\n"
     ]
    }
   ],
   "source": [
    "b=int(input(\"Enter your age: \"))\n",
    "if b>0 and b<15:\n",
    "   print(\"Child\")\n",
    "elif b>15 and b<19:\n",
    "   print(\"Teenage\")\n",
    "elif b>18 and b<100:\n",
    "   print(\"Adult\")"
   ]
  },
  {
   "cell_type": "code",
   "execution_count": null,
   "id": "1c6b5e57",
   "metadata": {},
   "outputs": [],
   "source": [
    "4. Create a program that checks if a given year is a leap year or not."
   ]
  },
  {
   "cell_type": "code",
   "execution_count": 46,
   "id": "03c7e7be",
   "metadata": {},
   "outputs": [
    {
     "name": "stdout",
     "output_type": "stream",
     "text": [
      "Enter Year: 2020\n",
      "2020 is a leaf year\n"
     ]
    }
   ],
   "source": [
    "Year=int(input(\"Enter Year: \"))\n",
    "if (Year%400==0) and (Year%100==0):\n",
    "   print(\"{0} is a leaf year\".format(Year))\n",
    "elif (Year%4==0) and (Year%100!=0):\n",
    "   print(\"{0} is a leaf year\".format(Year))\n",
    "else:\n",
    "   print(\"{0} is a leaf year\".format(Year))"
   ]
  },
  {
   "cell_type": "code",
   "execution_count": null,
   "id": "c880e1d1",
   "metadata": {},
   "outputs": [],
   "source": [
    "5. Write a program to find the largest of three numbers entered by the user."
   ]
  },
  {
   "cell_type": "code",
   "execution_count": 52,
   "id": "e18bce39",
   "metadata": {},
   "outputs": [
    {
     "name": "stdout",
     "output_type": "stream",
     "text": [
      "Enter Num_1: 25\n",
      "Enter Num_2: 21\n",
      "Enter Num_3: 20\n",
      "Num_1 is big\n"
     ]
    }
   ],
   "source": [
    "d=int(input(\"Enter Num_1: \"))\n",
    "f=int(input(\"Enter Num_2: \"))\n",
    "g=int(input(\"Enter Num_3: \"))\n",
    "\n",
    "if d>f and b>g:\n",
    "   print(\"Num_1 is big\")\n",
    "elif f>g and f>d:\n",
    "   print(\"Num2 is big\")\n",
    "elif g>d and g>f:\n",
    "   print(\"Num3 is big\")\n",
    "else:\n",
    "   print(\"NA\")"
   ]
  },
  {
   "cell_type": "code",
   "execution_count": null,
   "id": "fda18dd0",
   "metadata": {},
   "outputs": [],
   "source": [
    "7. Write a program to check if a given character is a vowel or a consonant."
   ]
  },
  {
   "cell_type": "code",
   "execution_count": 57,
   "id": "bf98ffb1",
   "metadata": {},
   "outputs": [
    {
     "name": "stdout",
     "output_type": "stream",
     "text": [
      "Enter a character: a\n"
     ]
    },
    {
     "ename": "NameError",
     "evalue": "name 'e' is not defined",
     "output_type": "error",
     "traceback": [
      "\u001b[1;31m---------------------------------------------------------------------------\u001b[0m",
      "\u001b[1;31mNameError\u001b[0m                                 Traceback (most recent call last)",
      "Cell \u001b[1;32mIn[57], line 2\u001b[0m\n\u001b[0;32m      1\u001b[0m Vowels\u001b[38;5;241m=\u001b[39m\u001b[38;5;28minput\u001b[39m(\u001b[38;5;124m\"\u001b[39m\u001b[38;5;124mEnter a character: \u001b[39m\u001b[38;5;124m\"\u001b[39m)\n\u001b[1;32m----> 2\u001b[0m \u001b[38;5;28;01mif\u001b[39;00m Vowels\u001b[38;5;241m==\u001b[39ma \u001b[38;5;129;01mor\u001b[39;00m Vowels\u001b[38;5;241m==\u001b[39me:\n\u001b[0;32m      3\u001b[0m    \u001b[38;5;28mprint\u001b[39m(\u001b[38;5;124m\"\u001b[39m\u001b[38;5;124mThis is a Vowel\u001b[39m\u001b[38;5;124m\"\u001b[39m) \n\u001b[0;32m      4\u001b[0m \u001b[38;5;28;01melif\u001b[39;00m Vowels\u001b[38;5;241m==\u001b[39mi \u001b[38;5;129;01mor\u001b[39;00m Vowels\u001b[38;5;241m==\u001b[39mo:\n",
      "\u001b[1;31mNameError\u001b[0m: name 'e' is not defined"
     ]
    }
   ],
   "source": [
    "Vowels=input(\"Enter a character: \")\n",
    "if Vowels==a or Vowels==e:\n",
    "   print(\"This is a Vowel\") \n",
    "elif Vowels==i or Vowels==o:\n",
    "    print(\"This is a Vowel\")\n",
    "elif Vowels==u:\n",
    "   print(\"This is a Vowel\")\n",
    "else:\n",
    "   print(\"This not a Vowel\")"
   ]
  },
  {
   "cell_type": "code",
   "execution_count": null,
   "id": "bdc0b3e5",
   "metadata": {},
   "outputs": [],
   "source": []
  },
  {
   "cell_type": "code",
   "execution_count": null,
   "id": "d0e4da4f",
   "metadata": {},
   "outputs": [],
   "source": []
  },
  {
   "cell_type": "code",
   "execution_count": null,
   "id": "c6c32f6c",
   "metadata": {},
   "outputs": [],
   "source": []
  },
  {
   "cell_type": "code",
   "execution_count": null,
   "id": "35e1be2e",
   "metadata": {},
   "outputs": [],
   "source": []
  },
  {
   "cell_type": "code",
   "execution_count": null,
   "id": "ccec628f",
   "metadata": {},
   "outputs": [],
   "source": []
  }
 ],
 "metadata": {
  "kernelspec": {
   "display_name": "Python 3 (ipykernel)",
   "language": "python",
   "name": "python3"
  },
  "language_info": {
   "codemirror_mode": {
    "name": "ipython",
    "version": 3
   },
   "file_extension": ".py",
   "mimetype": "text/x-python",
   "name": "python",
   "nbconvert_exporter": "python",
   "pygments_lexer": "ipython3",
   "version": "3.11.3"
  }
 },
 "nbformat": 4,
 "nbformat_minor": 5
}
