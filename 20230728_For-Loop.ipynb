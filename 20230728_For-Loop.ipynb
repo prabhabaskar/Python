{
 "cells": [
  {
   "cell_type": "code",
   "execution_count": null,
   "id": "07ca0014",
   "metadata": {},
   "outputs": [],
   "source": [
    "FOR loops:\n",
    "\n",
    "1. Count from 1 to 5:\n",
    "Write a program using a `for` loop that prints the numbers from 1 to 5."
   ]
  },
  {
   "cell_type": "code",
   "execution_count": 1,
   "id": "e054f18d",
   "metadata": {},
   "outputs": [
    {
     "name": "stdout",
     "output_type": "stream",
     "text": [
      "1\n",
      "2\n",
      "3\n",
      "4\n",
      "5\n"
     ]
    }
   ],
   "source": [
    "for i in range(1,6):\n",
    "    print(i)"
   ]
  },
  {
   "cell_type": "code",
   "execution_count": null,
   "id": "3a011387",
   "metadata": {},
   "outputs": [],
   "source": [
    "2. Sum of Numbers:\n",
    "Write a program using a `for` loop that calculates the sum of numbers from 1 to 10 and prints the result."
   ]
  },
  {
   "cell_type": "code",
   "execution_count": 1,
   "id": "bcdfecdc",
   "metadata": {},
   "outputs": [
    {
     "name": "stdout",
     "output_type": "stream",
     "text": [
      "The total count is 55\n"
     ]
    }
   ],
   "source": [
    "sum=0\n",
    "for i in (range(1,11)):\n",
    "    sum=sum+i\n",
    "print(\"The total count is\",sum)"
   ]
  },
  {
   "cell_type": "code",
   "execution_count": null,
   "id": "ac313091",
   "metadata": {},
   "outputs": [],
   "source": [
    "3. Print Even Numbers:\n",
    "Write a program using a `for` loop that prints all even numbers from 1 to 10."
   ]
  },
  {
   "cell_type": "code",
   "execution_count": 65,
   "id": "86beef7b",
   "metadata": {},
   "outputs": [
    {
     "name": "stdout",
     "output_type": "stream",
     "text": [
      "2\n",
      "4\n",
      "6\n",
      "8\n",
      "10\n"
     ]
    }
   ],
   "source": [
    "sum=0\n",
    "for i in range(1,6):\n",
    "    sum=sum+2\n",
    "    print(sum)"
   ]
  },
  {
   "cell_type": "code",
   "execution_count": null,
   "id": "54b1894c",
   "metadata": {},
   "outputs": [],
   "source": [
    "4. Reverse a String:\n",
    "Write a program using a `for` loop that takes a string as input and prints the characters in reverse order."
   ]
  },
  {
   "cell_type": "code",
   "execution_count": 4,
   "id": "68b57aaf",
   "metadata": {},
   "outputs": [
    {
     "name": "stdout",
     "output_type": "stream",
     "text": [
      "Enter name:Prabha\n",
      "P\n",
      "rP\n",
      "arP\n",
      "barP\n",
      "hbarP\n",
      "ahbarP\n"
     ]
    }
   ],
   "source": [
    "str1=input(\"Enter name:\")\n",
    "a=\"\"\n",
    "for i in str1:\n",
    "    a=i+a\n",
    "    print(a)\n"
   ]
  },
  {
   "cell_type": "code",
   "execution_count": null,
   "id": "80c6b71d",
   "metadata": {},
   "outputs": [],
   "source": [
    "5. Multiplication Table:\n",
    "Write a program using nested `for` loops that prints the multiplication table from 1 to 5 (1 to 5 times tables)."
   ]
  },
  {
   "cell_type": "code",
   "execution_count": 124,
   "id": "79f50e8a",
   "metadata": {},
   "outputs": [
    {
     "name": "stdout",
     "output_type": "stream",
     "text": [
      "1 x 1 = 1\n",
      "1 x 2 = 2\n",
      "1 x 3 = 3\n",
      "1 x 4 = 4\n",
      "1 x 5 = 5\n",
      "1 x 6 = 6\n",
      "1 x 7 = 7\n",
      "1 x 8 = 8\n",
      "1 x 9 = 9\n",
      "1 x 10 = 10\n",
      "2 x 1 = 2\n",
      "2 x 2 = 4\n",
      "2 x 3 = 6\n",
      "2 x 4 = 8\n",
      "2 x 5 = 10\n",
      "2 x 6 = 12\n",
      "2 x 7 = 14\n",
      "2 x 8 = 16\n",
      "2 x 9 = 18\n",
      "2 x 10 = 20\n",
      "3 x 1 = 3\n",
      "3 x 2 = 6\n",
      "3 x 3 = 9\n",
      "3 x 4 = 12\n",
      "3 x 5 = 15\n",
      "3 x 6 = 18\n",
      "3 x 7 = 21\n",
      "3 x 8 = 24\n",
      "3 x 9 = 27\n",
      "3 x 10 = 30\n",
      "4 x 1 = 4\n",
      "4 x 2 = 8\n",
      "4 x 3 = 12\n",
      "4 x 4 = 16\n",
      "4 x 5 = 20\n",
      "4 x 6 = 24\n",
      "4 x 7 = 28\n",
      "4 x 8 = 32\n",
      "4 x 9 = 36\n",
      "4 x 10 = 40\n",
      "5 x 1 = 5\n",
      "5 x 2 = 10\n",
      "5 x 3 = 15\n",
      "5 x 4 = 20\n",
      "5 x 5 = 25\n",
      "5 x 6 = 30\n",
      "5 x 7 = 35\n",
      "5 x 8 = 40\n",
      "5 x 9 = 45\n",
      "5 x 10 = 50\n",
      "6 x 1 = 6\n",
      "6 x 2 = 12\n",
      "6 x 3 = 18\n",
      "6 x 4 = 24\n",
      "6 x 5 = 30\n",
      "6 x 6 = 36\n",
      "6 x 7 = 42\n",
      "6 x 8 = 48\n",
      "6 x 9 = 54\n",
      "6 x 10 = 60\n",
      "7 x 1 = 7\n",
      "7 x 2 = 14\n",
      "7 x 3 = 21\n",
      "7 x 4 = 28\n",
      "7 x 5 = 35\n",
      "7 x 6 = 42\n",
      "7 x 7 = 49\n",
      "7 x 8 = 56\n",
      "7 x 9 = 63\n",
      "7 x 10 = 70\n",
      "8 x 1 = 8\n",
      "8 x 2 = 16\n",
      "8 x 3 = 24\n",
      "8 x 4 = 32\n",
      "8 x 5 = 40\n",
      "8 x 6 = 48\n",
      "8 x 7 = 56\n",
      "8 x 8 = 64\n",
      "8 x 9 = 72\n",
      "8 x 10 = 80\n",
      "9 x 1 = 9\n",
      "9 x 2 = 18\n",
      "9 x 3 = 27\n",
      "9 x 4 = 36\n",
      "9 x 5 = 45\n",
      "9 x 6 = 54\n",
      "9 x 7 = 63\n",
      "9 x 8 = 72\n",
      "9 x 9 = 81\n",
      "9 x 10 = 90\n",
      "10 x 1 = 10\n",
      "10 x 2 = 20\n",
      "10 x 3 = 30\n",
      "10 x 4 = 40\n",
      "10 x 5 = 50\n",
      "10 x 6 = 60\n",
      "10 x 7 = 70\n",
      "10 x 8 = 80\n",
      "10 x 9 = 90\n",
      "10 x 10 = 100\n"
     ]
    }
   ],
   "source": [
    "for i in range(1,11):\n",
    "    for j in range(1,11):\n",
    "        print(i, 'x', j, '=', j*i)\n"
   ]
  },
  {
   "cell_type": "code",
   "execution_count": null,
   "id": "328ef751",
   "metadata": {},
   "outputs": [],
   "source": [
    "7. Count Digits:\n",
    "Write a program using a `for` loop that takes an integer as input and counts the number of digits in it."
   ]
  },
  {
   "cell_type": "code",
   "execution_count": 11,
   "id": "3743cc2c",
   "metadata": {},
   "outputs": [
    {
     "name": "stdout",
     "output_type": "stream",
     "text": [
      "Enter a num: 45632\n",
      "5\n"
     ]
    }
   ],
   "source": [
    "\n",
    "a=int(input(\"Enter a num: \" ))\n",
    "print(len(str(a)))"
   ]
  },
  {
   "cell_type": "code",
   "execution_count": 121,
   "id": "ab548495",
   "metadata": {},
   "outputs": [
    {
     "name": "stdout",
     "output_type": "stream",
     "text": [
      "D r\n",
      "k r\n",
      "D p\n",
      "k p\n",
      "D r\n",
      "k r\n",
      "D p\n",
      "k p\n",
      "D r\n",
      "k r\n",
      "D p\n",
      "k p\n"
     ]
    }
   ],
   "source": [
    "a=int(input(\"Enter a num:\"))\n",
    "for i in a:\n",
    "    "
   ]
  },
  {
   "cell_type": "code",
   "execution_count": 137,
   "id": "8da97ca8",
   "metadata": {},
   "outputs": [
    {
     "name": "stdout",
     "output_type": "stream",
     "text": [
      "1\n",
      "1\n",
      "1\n",
      "1\n",
      "1\n",
      "1\n",
      "1\n",
      "1\n",
      "1\n",
      "1\n"
     ]
    }
   ],
   "source": [
    "a=0\n",
    "b=0\n",
    "vow='aAeEIiOoUu'\n",
    "c=\"Abcdefhgijklmnopqrstuvwxyz\"\n",
    "for i in vow:\n",
    "    print(1)"
   ]
  },
  {
   "cell_type": "code",
   "execution_count": 16,
   "id": "9f577f07",
   "metadata": {},
   "outputs": [
    {
     "name": "stdout",
     "output_type": "stream",
     "text": [
      "Enter a name: civic\n",
      "Palindrome\n"
     ]
    }
   ],
   "source": [
    "a=input(\"Enter a name: \")\n",
    "reversed_a=a[::-1]\n",
    "if a==reversed_a:\n",
    "    print('Palindrome')\n",
    "else:\n",
    "    print('Not a palindrome')"
   ]
  },
  {
   "cell_type": "code",
   "execution_count": 139,
   "id": "1ccd14f2",
   "metadata": {},
   "outputs": [
    {
     "data": {
      "text/plain": [
       "{'aabbcc'}"
      ]
     },
     "execution_count": 139,
     "metadata": {},
     "output_type": "execute_result"
    }
   ],
   "source": [
    "a=\"aabbcc\"\n",
    "a."
   ]
  },
  {
   "cell_type": "code",
   "execution_count": null,
   "id": "95836299",
   "metadata": {},
   "outputs": [],
   "source": []
  },
  {
   "cell_type": "markdown",
   "id": "09c39e5f",
   "metadata": {},
   "source": [
    "a=input(\"Enter a word: \")\n",
    "b=input(\"Enter another word: \")\n",
    "replace_a=a.replace(\" \",\"\")\n",
    "replace_b=b.replace(\" \",\"\")\n",
    "if sorted(a) == sorted(b):\n",
    "    print(\"This is palindrome\")\n",
    "else:\n",
    "    print(\"This is not palindrome\")"
   ]
  },
  {
   "cell_type": "code",
   "execution_count": 15,
   "id": "8c140615",
   "metadata": {},
   "outputs": [
    {
     "name": "stdout",
     "output_type": "stream",
     "text": [
      "Enter a str:rat\n",
      "This is not palindrome\n"
     ]
    }
   ],
   "source": [
    "a=input(\"Enter a str:\")\n",
    "reversed_a=a[::-1]\n",
    "if a==reversed_a:\n",
    "    print(\"This is palindrome\")\n",
    "else:\n",
    "    print(\"This is not palindrome\")"
   ]
  },
  {
   "cell_type": "code",
   "execution_count": 24,
   "id": "bb4ed38d",
   "metadata": {},
   "outputs": [
    {
     "name": "stdout",
     "output_type": "stream",
     "text": [
      "*\n",
      "**\n",
      "***\n",
      "****\n",
      "*****\n"
     ]
    }
   ],
   "source": [
    "for i in range(1,6):\n",
    "        print(i*\"*\",)"
   ]
  },
  {
   "cell_type": "code",
   "execution_count": 5,
   "id": "b229075f",
   "metadata": {},
   "outputs": [
    {
     "name": "stdout",
     "output_type": "stream",
     "text": [
      "Enter a string: mom\n",
      "It is a palidrome\n"
     ]
    }
   ],
   "source": [
    "x=input(\"Enter a string: \")\n",
    "x=x.casefold()\n",
    "w=\"\"\n",
    "for i in x:\n",
    "    w=i+w\n",
    "if(w==x):\n",
    "    print(\"It is a palidrome\")\n",
    "else:\n",
    "    print(\"It is not a palidrome\")"
   ]
  },
  {
   "cell_type": "code",
   "execution_count": 13,
   "id": "12f39836",
   "metadata": {},
   "outputs": [
    {
     "name": "stdout",
     "output_type": "stream",
     "text": [
      "{ b : 3 }{ c : 3 }{ f : 2 }{ a : 3 }{ d : 3 }"
     ]
    }
   ],
   "source": [
    "a=\"aaabbbcccdddff\"\n",
    "unique_a=set(a)\n",
    "\n",
    "for i in unique_a:\n",
    "    count=a.count(i)\n",
    "    print(\"{\",i,\":\",count,\"}\",end=\"\")"
   ]
  },
  {
   "cell_type": "code",
   "execution_count": null,
   "id": "2269562c",
   "metadata": {},
   "outputs": [],
   "source": [
    "Anaygram"
   ]
  },
  {
   "cell_type": "code",
   "execution_count": 18,
   "id": "a6bb5679",
   "metadata": {},
   "outputs": [
    {
     "name": "stdout",
     "output_type": "stream",
     "text": [
      "Enter a anaygram: tea\n",
      "Enter a anaygram1: eat\n",
      "This is anaygram\n"
     ]
    }
   ],
   "source": [
    "a=input(\"Enter a anaygram: \")\n",
    "b=input(\"Enter a anaygram1: \")\n",
    "if sorted(a) == sorted(b):\n",
    "    print(\"This is anaygram\")\n",
    "else:\n",
    "    print(\"Not\")\n",
    "    \n",
    "\n",
    "   "
   ]
  },
  {
   "cell_type": "code",
   "execution_count": 29,
   "id": "205e22dd",
   "metadata": {},
   "outputs": [
    {
     "name": "stdout",
     "output_type": "stream",
     "text": [
      "{ c : 3 }{ f : 2 }{ b : 3 }{ a : 3 }{ d : 3 }"
     ]
    }
   ],
   "source": [
    "a=\"aaabbbcccdddff\"\n",
    "unique_a=set(a)\n",
    "\n",
    "for i in unique_a:\n",
    "    count=a.count(i)\n",
    "    print(\"{\",i,\":\",count,\"}\",end=\"\")"
   ]
  },
  {
   "cell_type": "code",
   "execution_count": null,
   "id": "3e760570",
   "metadata": {},
   "outputs": [],
   "source": [
    "\n",
    "7. Count Digits:\n",
    "Write a program using a `for` loop that takes an integer as input and counts the number of digits in it."
   ]
  },
  {
   "cell_type": "code",
   "execution_count": 33,
   "id": "f8edf433",
   "metadata": {},
   "outputs": [
    {
     "name": "stdout",
     "output_type": "stream",
     "text": [
      "3\n"
     ]
    }
   ],
   "source": [
    "num=123\n",
    "print(len(str(num)))"
   ]
  },
  {
   "cell_type": "code",
   "execution_count": 44,
   "id": "46815446",
   "metadata": {},
   "outputs": [
    {
     "name": "stdout",
     "output_type": "stream",
     "text": [
      "Enter No:123abc\n"
     ]
    }
   ],
   "source": [
    "num=input(\"Enter No:\")\n",
    "a=0\n",
    "for i in num:\n",
    "    if type(i)==int:\n",
    "        if i in range(0,10):\n",
    "            a=a+1\n",
    "            print(a)"
   ]
  },
  {
   "cell_type": "code",
   "execution_count": 53,
   "id": "c23710ea",
   "metadata": {},
   "outputs": [
    {
     "data": {
      "text/plain": [
       "False"
      ]
     },
     "execution_count": 53,
     "metadata": {},
     "output_type": "execute_result"
    }
   ],
   "source": [
    "\"2\" in str(range(0,10))"
   ]
  },
  {
   "cell_type": "code",
   "execution_count": 9,
   "id": "ef4f7889",
   "metadata": {},
   "outputs": [
    {
     "name": "stdout",
     "output_type": "stream",
     "text": [
      "Enter No:2563 abd\n",
      "The no digits is: 4\n",
      "The no of count is: 8\n"
     ]
    }
   ],
   "source": [
    "num=input(\"Enter No:\")\n",
    "a=0\n",
    "b=0\n",
    "for i in num:\n",
    "    if(i.isdigit()):\n",
    "        a=a+1\n",
    "    b=b+1\n",
    "print(\"The no digits is:\",a)\n",
    "print(\"The no of count is:\",b)"
   ]
  },
  {
   "cell_type": "code",
   "execution_count": 7,
   "id": "06ebe2dd",
   "metadata": {},
   "outputs": [
    {
     "name": "stdout",
     "output_type": "stream",
     "text": [
      "Enter string:4563 ABI\n",
      "The number of digits is:\n",
      "4\n",
      "The number of characters is:\n",
      "8\n"
     ]
    }
   ],
   "source": [
    "string=input(\"Enter string:\")\n",
    "count1=0\n",
    "count2=0\n",
    "for i in string:\n",
    "      if(i.isdigit()):\n",
    "          count1=count1+1\n",
    "      count2=count2+1\n",
    "print(\"The number of digits is:\")\n",
    "print(count1)\n",
    "print(\"The number of characters is:\")\n",
    "print(count2)"
   ]
  },
  {
   "cell_type": "code",
   "execution_count": 150,
   "id": "6177b125",
   "metadata": {},
   "outputs": [
    {
     "name": "stdout",
     "output_type": "stream",
     "text": [
      "Vowel count is 5\n",
      "Consonant is: 6\n"
     ]
    }
   ],
   "source": [
    "a=\"This Is a a pen\"\n",
    "c=0\n",
    "d=0\n",
    "for i in a:\n",
    "    if i in \"aeiouAEIOU\":\n",
    "        c+=1        \n",
    "    elif i!=\" \":\n",
    "        d+=1\n",
    "print(\"Vowel count is\",c)\n",
    "    \n",
    "print(\"Consonant is:\",d)"
   ]
  },
  {
   "cell_type": "code",
   "execution_count": 170,
   "id": "e51c2763",
   "metadata": {},
   "outputs": [
    {
     "name": "stdout",
     "output_type": "stream",
     "text": [
      "The Vowels count is: 11\n",
      "The Consonant count is: 16\n"
     ]
    }
   ],
   "source": [
    "a=\"Hi, All of you, WelcomE to the world\"\n",
    "b=0\n",
    "c=0\n",
    "\n",
    "for i in a:\n",
    "    if (ord(i) > 64 and ord(i) < 91) or (ord(i) > 96 and ord(i) < 123):\n",
    "        if i in 'aeiouAEIOU':\n",
    "            b+=1\n",
    "        else:\n",
    "            c+=1\n",
    "print(\"The Vowels count is:\",b)\n",
    "print(\"The Consonant count is:\",c)\n"
   ]
  },
  {
   "cell_type": "code",
   "execution_count": 213,
   "id": "07a9e612",
   "metadata": {},
   "outputs": [
    {
     "name": "stdout",
     "output_type": "stream",
     "text": [
      "{'c': 3, 'b': 3, 'a': 3, 'd': 3, 'e': 6}\n"
     ]
    }
   ],
   "source": [
    "a=\"aaabbbcccdddeeeeee\"\n",
    "b=set(a)\n",
    "out={}\n",
    "for i in b:\n",
    "    count=a.count(i)\n",
    "    out[i]=count\n",
    "print(out)"
   ]
  },
  {
   "cell_type": "code",
   "execution_count": 210,
   "id": "04b87d2f",
   "metadata": {},
   "outputs": [
    {
     "data": {
      "text/plain": [
       "{'c': 3, 'b': 3, 'a': 3, 'd': 3, 'e': 6}"
      ]
     },
     "execution_count": 210,
     "metadata": {},
     "output_type": "execute_result"
    }
   ],
   "source": [
    "out"
   ]
  },
  {
   "cell_type": "code",
   "execution_count": null,
   "id": "bb45a9c3",
   "metadata": {},
   "outputs": [],
   "source": []
  },
  {
   "cell_type": "code",
   "execution_count": null,
   "id": "ad2751c9",
   "metadata": {},
   "outputs": [],
   "source": []
  },
  {
   "cell_type": "code",
   "execution_count": 21,
   "id": "2aaecef4",
   "metadata": {},
   "outputs": [
    {
     "name": "stdout",
     "output_type": "stream",
     "text": [
      "Number of vowels in the given string is:  6\n"
     ]
    }
   ],
   "source": [
    "example = \"Favtutor article\"\n",
    "\n",
    "vowels = [\"a\", \"e\", \"i\", \"o\", \"u\"]\n",
    "count = 0\n",
    "\n",
    "# using for-each loop, character is reference to a letter in the string\n",
    "for character in example:\n",
    "    if character in vowels:\n",
    "        count += 1\n",
    "\n",
    "\n",
    "print(\"Number of vowels in the given string is: \", count)"
   ]
  },
  {
   "cell_type": "code",
   "execution_count": 27,
   "id": "a739cf69",
   "metadata": {},
   "outputs": [
    {
     "name": "stdout",
     "output_type": "stream",
     "text": [
      "this is a pen\n"
     ]
    }
   ],
   "source": [
    "a=\"This Is a pen\"\n",
    "b=a.lower()\n",
    "print(b)"
   ]
  },
  {
   "cell_type": "code",
   "execution_count": 46,
   "id": "628c73af",
   "metadata": {},
   "outputs": [
    {
     "name": "stdout",
     "output_type": "stream",
     "text": [
      "2 3 5 7 11 13 17 19 23 29 31 37 41 43 47 53 59 61 67 71 73 79 83 89 97 "
     ]
    }
   ],
   "source": [
    "for i in range(1,101):\n",
    "    c=0\n",
    "    for j in range(2,(i//2+1)):\n",
    "        if i%j==0:\n",
    "            c=c+1\n",
    "            break\n",
    "    if c==0 and i!=1:\n",
    "        print(i,end=\" \")"
   ]
  },
  {
   "cell_type": "code",
   "execution_count": 53,
   "id": "a4861f2c",
   "metadata": {},
   "outputs": [
    {
     "data": {
      "text/plain": [
       "1"
      ]
     },
     "execution_count": 53,
     "metadata": {},
     "output_type": "execute_result"
    }
   ],
   "source": [
    "i5=24\n",
    "i%2+1"
   ]
  },
  {
   "cell_type": "code",
   "execution_count": 85,
   "id": "b4a0ec6e",
   "metadata": {},
   "outputs": [
    {
     "name": "stdout",
     "output_type": "stream",
     "text": [
      "100 is not a prime number\n",
      "2 times 50 is 100\n"
     ]
    }
   ],
   "source": [
    "num=100\n",
    "\n",
    "#num=int(input(\"Enter a number: \"))\n",
    "\n",
    "if num==1:\n",
    "    print(num,\"is not an prime number\")\n",
    "elif num>1:\n",
    "    for i in range(2,num):\n",
    "        if (num%i)==0:\n",
    "            print(num,\"is not a prime number\")\n",
    "            print(i,'times',num//i,\"is\",num)\n",
    "            break\n",
    "    else:\n",
    "        print(num,\"is a prime number\")\n",
    "else:\n",
    "    print(num,\"is not a prime number\")\n",
    "        "
   ]
  },
  {
   "cell_type": "code",
   "execution_count": null,
   "id": "8bcc9de2",
   "metadata": {},
   "outputs": [],
   "source": [
    "Find the Maximum and Minimum:\n",
    "Write a function to find the maximum and minimum elements in a given list"
   ]
  },
  {
   "cell_type": "code",
   "execution_count": 135,
   "id": "df38b99d",
   "metadata": {},
   "outputs": [
    {
     "name": "stdout",
     "output_type": "stream",
     "text": [
      "Max 52\n",
      "Min 1\n"
     ]
    }
   ],
   "source": [
    "a=[1,5,6,11,25,14,36,52]\n",
    "large=a[0]\n",
    "small=a[0]\n",
    "for num in a:\n",
    "    if num>large:\n",
    "        large=num\n",
    "    if num < small:\n",
    "        small=num\n",
    "        \n",
    "print(\"Max\",large)\n",
    "print(\"Min\",small)"
   ]
  },
  {
   "cell_type": "code",
   "execution_count": 99,
   "id": "ae95b3e2",
   "metadata": {},
   "outputs": [
    {
     "name": "stdout",
     "output_type": "stream",
     "text": [
      "Maximun 52\n",
      "Min 1\n"
     ]
    }
   ],
   "source": [
    "a=[1,5,6,11,25,14,36,52]\n",
    "print(\"Maximun\",max(a))\n",
    "print(\"Min\",min(a))"
   ]
  },
  {
   "cell_type": "code",
   "execution_count": null,
   "id": "17d2cffe",
   "metadata": {},
   "outputs": [],
   "source": [
    "List Reversal:\n",
    "Implement a function to reverse a given list in-place (without using the reverse() method)"
   ]
  },
  {
   "cell_type": "code",
   "execution_count": 102,
   "id": "9fc387c1",
   "metadata": {},
   "outputs": [
    {
     "name": "stdout",
     "output_type": "stream",
     "text": [
      "]5 ,4 ,'ahbarp' ,3 ,2 ,1[\n"
     ]
    }
   ],
   "source": [
    "b=[1,2,3,\"prabha\",4,5]\n",
    "c=\"\"\n",
    "for i in str(b):\n",
    "    c=i+c\n",
    "print(c)"
   ]
  },
  {
   "cell_type": "code",
   "execution_count": 111,
   "id": "c3bf1857",
   "metadata": {},
   "outputs": [
    {
     "name": "stdout",
     "output_type": "stream",
     "text": [
      "[6, 5, 4, 3, 2, 1]\n"
     ]
    }
   ],
   "source": [
    "b=[1,2,3,4,5,6]\n",
    "l=[]\n",
    "for i in b:\n",
    "    l.insert(0,i)\n",
    "print(l)"
   ]
  },
  {
   "cell_type": "code",
   "execution_count": null,
   "id": "6592a3db",
   "metadata": {},
   "outputs": [],
   "source": [
    "Remove Duplicates:\n",
    "Write a function to remove duplicates from a list while preserving the order of the elements."
   ]
  },
  {
   "cell_type": "code",
   "execution_count": 117,
   "id": "1e048b54",
   "metadata": {},
   "outputs": [
    {
     "name": "stdout",
     "output_type": "stream",
     "text": [
      "[11, 22, 33, 55, 66, 77]\n"
     ]
    }
   ],
   "source": [
    "a=[11,22,11,22,33,33,55,66,77,77,11,55]\n",
    "b=[]\n",
    "[b.append(x) for x in a if x not in b]\n",
    "print(b)"
   ]
  },
  {
   "cell_type": "code",
   "execution_count": 214,
   "id": "d78d2136",
   "metadata": {},
   "outputs": [
    {
     "name": "stdout",
     "output_type": "stream",
     "text": [
      "*****\n",
      " ****\n",
      "  ***\n",
      "   **\n",
      "    *\n"
     ]
    }
   ],
   "source": [
    "row=5\n",
    "for i in range(row):\n",
    "    for j in range(i):\n",
    "        print(\" \",end=\"\")\n",
    "    for k in range(row-i):\n",
    "        print(\"*\",end=\"\")\n",
    "    print()"
   ]
  },
  {
   "cell_type": "code",
   "execution_count": 215,
   "id": "0d11d40a",
   "metadata": {},
   "outputs": [
    {
     "name": "stdout",
     "output_type": "stream",
     "text": [
      "*****\n",
      "****\n",
      "***\n",
      "**\n",
      "*\n"
     ]
    }
   ],
   "source": [
    "for i in range(5,0,-1):\n",
    "    for j in range(i):\n",
    "        print('*', end=\"\")\n",
    "    print()"
   ]
  },
  {
   "cell_type": "code",
   "execution_count": 216,
   "id": "34c9d226",
   "metadata": {},
   "outputs": [
    {
     "name": "stdout",
     "output_type": "stream",
     "text": [
      "*\n",
      "**\n",
      "***\n",
      "****\n",
      "*****\n"
     ]
    }
   ],
   "source": [
    "for i in range(1,6):\n",
    "    for j in range(i):\n",
    "        print('*', end=\"\")\n",
    "    print()"
   ]
  },
  {
   "cell_type": "code",
   "execution_count": 218,
   "id": "a87f9ca6",
   "metadata": {},
   "outputs": [
    {
     "name": "stdout",
     "output_type": "stream",
     "text": [
      "*****\n",
      "****\n",
      "***\n",
      "**\n",
      "*\n"
     ]
    }
   ],
   "source": [
    "for i in range(5,0,-1):\n",
    "    for j in range(i):\n",
    "        print(\"\", end=\"\")\n",
    "    for j in range(i):\n",
    "        print('*', end=\"\")\n",
    "    print()"
   ]
  },
  {
   "cell_type": "code",
   "execution_count": null,
   "id": "f590639a",
   "metadata": {},
   "outputs": [],
   "source": []
  },
  {
   "cell_type": "code",
   "execution_count": null,
   "id": "98027bf6",
   "metadata": {},
   "outputs": [],
   "source": []
  },
  {
   "cell_type": "code",
   "execution_count": null,
   "id": "4bb9233a",
   "metadata": {},
   "outputs": [],
   "source": []
  },
  {
   "cell_type": "code",
   "execution_count": null,
   "id": "36b3743a",
   "metadata": {},
   "outputs": [],
   "source": []
  },
  {
   "cell_type": "code",
   "execution_count": null,
   "id": "3a68d3c7",
   "metadata": {},
   "outputs": [],
   "source": []
  },
  {
   "cell_type": "code",
   "execution_count": null,
   "id": "d2c200f3",
   "metadata": {},
   "outputs": [],
   "source": []
  }
 ],
 "metadata": {
  "kernelspec": {
   "display_name": "Python 3 (ipykernel)",
   "language": "python",
   "name": "python3"
  },
  "language_info": {
   "codemirror_mode": {
    "name": "ipython",
    "version": 3
   },
   "file_extension": ".py",
   "mimetype": "text/x-python",
   "name": "python",
   "nbconvert_exporter": "python",
   "pygments_lexer": "ipython3",
   "version": "3.11.3"
  }
 },
 "nbformat": 4,
 "nbformat_minor": 5
}
