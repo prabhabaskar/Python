{
 "cells": [
  {
   "cell_type": "code",
   "execution_count": null,
   "id": "a702139e",
   "metadata": {},
   "outputs": [],
   "source": [
    "Introduction of phython:\n",
    "------------------------\n",
    "\n",
    "1. Founder of phython is Guido van Rossum, found in 1989, Approved in 20th Febuary 1991.(Java found in 1995)\n",
    "2. Phython is used in all departments(Web Page, Desktop Application, Mobile Apps, Gameing, Net Working, \n",
    "                                     data scientist, AI, Robetic.....)\n",
    "3. Phythis is a opensource Language (We can change coding easily) and Freeware (No License Needed).\n",
    "4. It is a high level programming language and also it is dianamic typed and statical typed programming language.\n",
    "5. Extensive Liberary support which means already stored functions.\n",
    "6. Disadvantages of phthyon is little bit slow in performance comapre to Java, c, C++.\n",
    "7. Version fo phython.\n",
    "   1.0 - 1994\n",
    "   2.0 - 2000\n",
    "   3.0 - 2008 after that small changes done version changed to 3.1, 3.2, 3.3,....Now we are using 3.11.\n",
    "   Next version willbe October 2023"
   ]
  },
  {
   "cell_type": "code",
   "execution_count": null,
   "id": "bdb1f314",
   "metadata": {},
   "outputs": [],
   "source": [
    "Identifier:\n",
    "-----------\n",
    "1. Function\n",
    "2. Variables\n",
    "3. class\n",
    "\n",
    "Rules for Identifier:\n",
    "    1. Should be Alphabetical (a-z,A-Z).\n",
    "    2. Digits (0-9), Should be meaningful.\n",
    "    3. Symbols only(_) allowed, @#$..etc not allowed.\n",
    "    4. Identifier should not be start with numbers.\n",
    "    5. It also a case sensitive\n",
    "    6. Reserved words not allowed which means we have 36 reserved words that not allowed as identifier (Ex: True, False, None)\n",
    "       these three words only titlecase out of 36, otherwise remaing all are lower case.\n",
    "\n",
    "Data types:\n",
    "    \n",
    "    There are 14 types list below:\n",
    "        \n",
    "    1. integer\n",
    "    2. string\n",
    "    3. float\n",
    "    4. complex\n",
    "    5. boolean\n",
    "    6. dictionary\n",
    "    7. list\n",
    "    8. set\n",
    "    9. tuple\n",
    "    10. None\n",
    "    11. bytes\n",
    "    12. bytes array\n",
    "    13. frozen set\n",
    "    14. range\n",
    "    \n",
    "Phython is a object oriented programming language. To create a space in phython.\n",
    "\n",
    "1. Integer - Numers(0-9), we can do add, sub, multiple, divison we get ansewer in float."
   ]
  },
  {
   "cell_type": "code",
   "execution_count": 7,
   "id": "f1a4324c",
   "metadata": {},
   "outputs": [],
   "source": [
    "a=10\n",
    "b=20"
   ]
  },
  {
   "cell_type": "code",
   "execution_count": 8,
   "id": "565686e6",
   "metadata": {},
   "outputs": [
    {
     "data": {
      "text/plain": [
       "30"
      ]
     },
     "execution_count": 8,
     "metadata": {},
     "output_type": "execute_result"
    }
   ],
   "source": [
    "a+b"
   ]
  },
  {
   "cell_type": "code",
   "execution_count": 9,
   "id": "0fc5c4cd",
   "metadata": {},
   "outputs": [
    {
     "data": {
      "text/plain": [
       "-10"
      ]
     },
     "execution_count": 9,
     "metadata": {},
     "output_type": "execute_result"
    }
   ],
   "source": [
    "a-b"
   ]
  },
  {
   "cell_type": "code",
   "execution_count": 11,
   "id": "6426a8a0",
   "metadata": {},
   "outputs": [
    {
     "data": {
      "text/plain": [
       "200"
      ]
     },
     "execution_count": 11,
     "metadata": {},
     "output_type": "execute_result"
    }
   ],
   "source": [
    "a*b"
   ]
  },
  {
   "cell_type": "code",
   "execution_count": 12,
   "id": "c801533d",
   "metadata": {},
   "outputs": [
    {
     "data": {
      "text/plain": [
       "0.5"
      ]
     },
     "execution_count": 12,
     "metadata": {},
     "output_type": "execute_result"
    }
   ],
   "source": [
    "a/b"
   ]
  },
  {
   "cell_type": "code",
   "execution_count": null,
   "id": "5580ee36",
   "metadata": {},
   "outputs": [],
   "source": [
    "2. Complex data type: Real and imaginary numbers\n",
    "    a+bj\n",
    "    a=Real number\n",
    "    b=\"imaginary number\"\n",
    "    Always \"j\" only presented along with the imaginary number"
   ]
  },
  {
   "cell_type": "code",
   "execution_count": 18,
   "id": "8d29a7a0",
   "metadata": {},
   "outputs": [],
   "source": [
    "a=10+12j"
   ]
  },
  {
   "cell_type": "code",
   "execution_count": 19,
   "id": "d4a46625",
   "metadata": {},
   "outputs": [
    {
     "data": {
      "text/plain": [
       "complex"
      ]
     },
     "execution_count": 19,
     "metadata": {},
     "output_type": "execute_result"
    }
   ],
   "source": [
    "type(a)"
   ]
  },
  {
   "cell_type": "code",
   "execution_count": null,
   "id": "5253c10d",
   "metadata": {},
   "outputs": [],
   "source": [
    "3. Boolean data type: Always returns True or False only"
   ]
  },
  {
   "cell_type": "code",
   "execution_count": 21,
   "id": "25fea89f",
   "metadata": {},
   "outputs": [
    {
     "data": {
      "text/plain": [
       "bool"
      ]
     },
     "execution_count": 21,
     "metadata": {},
     "output_type": "execute_result"
    }
   ],
   "source": [
    "a=True\n",
    "b=False\n",
    "type(a)"
   ]
  },
  {
   "cell_type": "code",
   "execution_count": 22,
   "id": "9618e09c",
   "metadata": {},
   "outputs": [
    {
     "data": {
      "text/plain": [
       "bool"
      ]
     },
     "execution_count": 22,
     "metadata": {},
     "output_type": "execute_result"
    }
   ],
   "source": [
    "type(b)"
   ]
  },
  {
   "cell_type": "code",
   "execution_count": null,
   "id": "ba058182",
   "metadata": {},
   "outputs": [],
   "source": [
    "4. String - With in a single quote '' or double quote \"\" we can give the data.\n",
    "    1. we can able to add, multiple a string\n",
    "    2. We can't do subtraction and division.\n",
    "    3. we can able to check lenth of string but int, float, complex has no lenth."
   ]
  },
  {
   "cell_type": "code",
   "execution_count": 25,
   "id": "d48ba879",
   "metadata": {},
   "outputs": [
    {
     "name": "stdout",
     "output_type": "stream",
     "text": [
      "Hello, World\n"
     ]
    }
   ],
   "source": [
    "a='Hello, World'\n",
    "print(a)"
   ]
  },
  {
   "cell_type": "code",
   "execution_count": 26,
   "id": "478d960d",
   "metadata": {},
   "outputs": [
    {
     "data": {
      "text/plain": [
       "str"
      ]
     },
     "execution_count": 26,
     "metadata": {},
     "output_type": "execute_result"
    }
   ],
   "source": [
    "type(a)"
   ]
  },
  {
   "cell_type": "code",
   "execution_count": 27,
   "id": "d55072fe",
   "metadata": {},
   "outputs": [
    {
     "data": {
      "text/plain": [
       "12"
      ]
     },
     "execution_count": 27,
     "metadata": {},
     "output_type": "execute_result"
    }
   ],
   "source": [
    "len(a)"
   ]
  },
  {
   "cell_type": "code",
   "execution_count": 28,
   "id": "520497e6",
   "metadata": {},
   "outputs": [
    {
     "data": {
      "text/plain": [
       "'Hello, WorldHello, World'"
      ]
     },
     "execution_count": 28,
     "metadata": {},
     "output_type": "execute_result"
    }
   ],
   "source": [
    "a*2"
   ]
  },
  {
   "cell_type": "code",
   "execution_count": 30,
   "id": "cb79bc5f",
   "metadata": {},
   "outputs": [],
   "source": [
    "a=\"hello\"\n",
    "b=\"world\""
   ]
  },
  {
   "cell_type": "code",
   "execution_count": 31,
   "id": "d590c2db",
   "metadata": {},
   "outputs": [
    {
     "data": {
      "text/plain": [
       "'helloworld'"
      ]
     },
     "execution_count": 31,
     "metadata": {},
     "output_type": "execute_result"
    }
   ],
   "source": [
    "a+b"
   ]
  },
  {
   "cell_type": "code",
   "execution_count": null,
   "id": "4b0abddf",
   "metadata": {},
   "outputs": [],
   "source": [
    "Type casting: We can conver one data type to another.\n",
    "    1. we can't convert float into string.\n",
    "    2. We can't convert string into float.\n",
    "    3. All int convert to string possible\n",
    "    4. all int to float possible\n",
    "    5. all float to int possible\n",
    "    6. all complex to int not possible"
   ]
  },
  {
   "cell_type": "code",
   "execution_count": 33,
   "id": "29579a03",
   "metadata": {},
   "outputs": [],
   "source": [
    "a=10"
   ]
  },
  {
   "cell_type": "code",
   "execution_count": 35,
   "id": "1815fcbc",
   "metadata": {},
   "outputs": [
    {
     "name": "stdout",
     "output_type": "stream",
     "text": [
      "10.0\n"
     ]
    }
   ],
   "source": [
    "b=float(a)\n",
    "print(b)"
   ]
  },
  {
   "cell_type": "code",
   "execution_count": 36,
   "id": "9567a1aa",
   "metadata": {},
   "outputs": [
    {
     "data": {
      "text/plain": [
       "10"
      ]
     },
     "execution_count": 36,
     "metadata": {},
     "output_type": "execute_result"
    }
   ],
   "source": [
    "int(a)"
   ]
  },
  {
   "cell_type": "code",
   "execution_count": 37,
   "id": "a8ea7bd7",
   "metadata": {},
   "outputs": [
    {
     "data": {
      "text/plain": [
       "'10'"
      ]
     },
     "execution_count": 37,
     "metadata": {},
     "output_type": "execute_result"
    }
   ],
   "source": [
    "str(a)"
   ]
  },
  {
   "cell_type": "code",
   "execution_count": 41,
   "id": "f49ad449",
   "metadata": {},
   "outputs": [],
   "source": [
    "c=12j"
   ]
  },
  {
   "cell_type": "code",
   "execution_count": 42,
   "id": "537c993a",
   "metadata": {},
   "outputs": [
    {
     "data": {
      "text/plain": [
       "complex"
      ]
     },
     "execution_count": 42,
     "metadata": {},
     "output_type": "execute_result"
    }
   ],
   "source": [
    "type(c)"
   ]
  },
  {
   "cell_type": "code",
   "execution_count": 45,
   "id": "d34280be",
   "metadata": {},
   "outputs": [
    {
     "ename": "SyntaxError",
     "evalue": "cannot assign to True (3919345597.py, line 1)",
     "output_type": "error",
     "traceback": [
      "\u001b[1;36m  Cell \u001b[1;32mIn[45], line 1\u001b[1;36m\u001b[0m\n\u001b[1;33m    True=1\u001b[0m\n\u001b[1;37m    ^\u001b[0m\n\u001b[1;31mSyntaxError\u001b[0m\u001b[1;31m:\u001b[0m cannot assign to True\n"
     ]
    }
   ],
   "source": [
    "True=1\n",
    "False=0"
   ]
  },
  {
   "cell_type": "code",
   "execution_count": 46,
   "id": "54241b5d",
   "metadata": {},
   "outputs": [
    {
     "data": {
      "text/plain": [
       "True"
      ]
     },
     "execution_count": 46,
     "metadata": {},
     "output_type": "execute_result"
    }
   ],
   "source": [
    "bool(1)"
   ]
  },
  {
   "cell_type": "code",
   "execution_count": 47,
   "id": "6d8e3abd",
   "metadata": {},
   "outputs": [
    {
     "data": {
      "text/plain": [
       "False"
      ]
     },
     "execution_count": 47,
     "metadata": {},
     "output_type": "execute_result"
    }
   ],
   "source": [
    "bool(0)"
   ]
  },
  {
   "cell_type": "code",
   "execution_count": null,
   "id": "4ee2e2dd",
   "metadata": {},
   "outputs": [],
   "source": [
    "Fundamental data types:\n",
    "    1. Integer\n",
    "    2. Float\n",
    "    3. Complex\n",
    "    4. String\n",
    "    5. Boolean\n",
    "All fundamental data types as immutable\n",
    "    1. Mutable: We can able to change the variable\n",
    "    2. Immutable: We can't change the varible we assigned"
   ]
  },
  {
   "cell_type": "code",
   "execution_count": null,
   "id": "1f21472b",
   "metadata": {},
   "outputs": [],
   "source": [
    "List - Group of values with in a Square bracket\n",
    "    1. We can give all data types in the list with a comma separation. Ex: [1, 2, 3, [1, 2, 3],'Neural Transformers']\n",
    "    2. It is mutable\n",
    "    3. The sequence of place value called as index.\n",
    "    4. From left to right 0,1,2,3...\n",
    "    5. From right to left -1,-2,-3...\n",
    "    6. For tab to check the list attributes and shift tab for to see Docstring."
   ]
  },
  {
   "cell_type": "code",
   "execution_count": 80,
   "id": "d48cc035",
   "metadata": {},
   "outputs": [
    {
     "name": "stdout",
     "output_type": "stream",
     "text": [
      "[1, 2, 3.4, 5, 'Neural Transformers', (7, 8, 9), {66, 77, 55}]\n"
     ]
    }
   ],
   "source": [
    "d=[1,2,3.4,5,\"Neural Transformers\",(7,8,9),{55,66,77}]\n",
    "print(d)"
   ]
  },
  {
   "cell_type": "code",
   "execution_count": 82,
   "id": "1816a85b",
   "metadata": {},
   "outputs": [
    {
     "name": "stdout",
     "output_type": "stream",
     "text": [
      "[1, 2, 3, 5, 'Neural Transformers', (7, 8, 9), {66, 77, 55}]\n"
     ]
    }
   ],
   "source": [
    "d[2]=3\n",
    "print(d)"
   ]
  },
  {
   "cell_type": "code",
   "execution_count": 105,
   "id": "12636cf7",
   "metadata": {},
   "outputs": [
    {
     "name": "stdout",
     "output_type": "stream",
     "text": [
      "[1, 2, 3, 5, 'Neural Transformers', (7, 8, 9), {66, 77, 55}, 4, '1', ',', '2', ',', '3', 4]\n"
     ]
    }
   ],
   "source": [
    "d.append(4)\n",
    "print(d)"
   ]
  },
  {
   "cell_type": "code",
   "execution_count": 106,
   "id": "e88d0f37",
   "metadata": {},
   "outputs": [
    {
     "name": "stdout",
     "output_type": "stream",
     "text": [
      "[1, 2, 3, 5, 'Neural Transformers', (7, 8, 9), {66, 77, 55}, 4, '1', ',', '2', ',', '3', 4, 'Hai']\n"
     ]
    }
   ],
   "source": [
    "d.append(\"Hai\")\n",
    "print(d)"
   ]
  },
  {
   "cell_type": "code",
   "execution_count": 110,
   "id": "e864e331",
   "metadata": {},
   "outputs": [
    {
     "name": "stdout",
     "output_type": "stream",
     "text": [
      "[1, 2, 3, 5, 'Neural Transformers', (7, 8, 9), {66, 77, 55}, 4, '1', ',', '2', ',', '3', 4, 'Hai', 12j, 12j, {4, 5}, 14j]\n"
     ]
    }
   ],
   "source": [
    "d.append(14j)\n",
    "print(d)"
   ]
  },
  {
   "cell_type": "code",
   "execution_count": 109,
   "id": "568e119d",
   "metadata": {},
   "outputs": [
    {
     "name": "stdout",
     "output_type": "stream",
     "text": [
      "[1, 2, 3, 5, 'Neural Transformers', (7, 8, 9), {66, 77, 55}, 4, '1', ',', '2', ',', '3', 4, 'Hai', 12j, 12j, {4, 5}]\n"
     ]
    }
   ],
   "source": [
    "d.append({4,5})\n",
    "print(d)"
   ]
  },
  {
   "cell_type": "code",
   "execution_count": 116,
   "id": "74822975",
   "metadata": {},
   "outputs": [
    {
     "name": "stdout",
     "output_type": "stream",
     "text": [
      "[1, 2, 3, 5, 'Neural Transformers', (7, 8, 9), {66, 77, 55}, 4, '1', ',', '2', ',', '3', 4, 'Hai', 12j, 12j, {4, 5}, 14j, [25, 26, 27], [25, 26, 27], [25, 26, 27], [25, 26, 27]]\n"
     ]
    }
   ],
   "source": [
    "d.append([25,26,27])\n",
    "print(d)"
   ]
  },
  {
   "cell_type": "code",
   "execution_count": null,
   "id": "cd2a301e",
   "metadata": {},
   "outputs": [],
   "source": [
    "Append---inserts a given value at end of the list.(all type datatypes)"
   ]
  },
  {
   "cell_type": "code",
   "execution_count": 85,
   "id": "d7249d8f",
   "metadata": {},
   "outputs": [
    {
     "name": "stdout",
     "output_type": "stream",
     "text": [
      "[]\n"
     ]
    }
   ],
   "source": [
    "a=[2,3,4,5]\n",
    "a.clear()\n",
    "print(a)"
   ]
  },
  {
   "cell_type": "code",
   "execution_count": null,
   "id": "15868c51",
   "metadata": {},
   "outputs": [],
   "source": [
    "Clear remove the all data from the list."
   ]
  },
  {
   "cell_type": "code",
   "execution_count": 87,
   "id": "81953658",
   "metadata": {},
   "outputs": [
    {
     "data": {
      "text/plain": [
       "[1, 2, 3, 5, 'Neural Transformers', (7, 8, 9), {55, 66, 77}, 4]"
      ]
     },
     "execution_count": 87,
     "metadata": {},
     "output_type": "execute_result"
    }
   ],
   "source": [
    "d.copy()"
   ]
  },
  {
   "cell_type": "code",
   "execution_count": 95,
   "id": "e27016d3",
   "metadata": {},
   "outputs": [
    {
     "data": {
      "text/plain": [
       "1"
      ]
     },
     "execution_count": 95,
     "metadata": {},
     "output_type": "execute_result"
    }
   ],
   "source": [
    "d.count(5)"
   ]
  },
  {
   "cell_type": "code",
   "execution_count": 97,
   "id": "03797716",
   "metadata": {},
   "outputs": [
    {
     "data": {
      "text/plain": [
       "8"
      ]
     },
     "execution_count": 97,
     "metadata": {},
     "output_type": "execute_result"
    }
   ],
   "source": [
    "len(d)"
   ]
  },
  {
   "cell_type": "code",
   "execution_count": null,
   "id": "fd372997",
   "metadata": {},
   "outputs": [],
   "source": [
    "count reuturns the count of given numbers or value"
   ]
  },
  {
   "cell_type": "code",
   "execution_count": 117,
   "id": "19685de6",
   "metadata": {},
   "outputs": [
    {
     "name": "stdout",
     "output_type": "stream",
     "text": [
      "[1, 2, 3, 5, 'Neural Transformers', (7, 8, 9), {66, 77, 55}, 4, '1', ',', '2', ',', '3', 4, 'Hai', 12j, 12j, {4, 5}, 14j, [25, 26, 27], [25, 26, 27], [25, 26, 27], [25, 26, 27], '1', ',', '2', ',', '3']\n"
     ]
    }
   ],
   "source": [
    "d.extend(\"1,2,3\")\n",
    "print(d)"
   ]
  },
  {
   "cell_type": "code",
   "execution_count": 118,
   "id": "154a5567",
   "metadata": {},
   "outputs": [
    {
     "data": {
      "text/plain": [
       "28"
      ]
     },
     "execution_count": 118,
     "metadata": {},
     "output_type": "execute_result"
    }
   ],
   "source": [
    "len(d)"
   ]
  },
  {
   "cell_type": "code",
   "execution_count": 165,
   "id": "92d6923f",
   "metadata": {},
   "outputs": [
    {
     "data": {
      "text/plain": [
       "[3,\n",
       " 5,\n",
       " 'Happy',\n",
       " (7, 8, 9),\n",
       " {55, 66, 77},\n",
       " 4,\n",
       " '1',\n",
       " ',',\n",
       " '2',\n",
       " ',',\n",
       " '3',\n",
       " 4,\n",
       " 'Hai',\n",
       " {4, 5},\n",
       " 14j,\n",
       " [25, 26, 27],\n",
       " [25, 26, 27],\n",
       " [25, 26, 27],\n",
       " [25, 26, 27],\n",
       " '1',\n",
       " ',',\n",
       " '2',\n",
       " ',',\n",
       " '3']"
      ]
     },
     "execution_count": 165,
     "metadata": {},
     "output_type": "execute_result"
    }
   ],
   "source": [
    "d"
   ]
  },
  {
   "cell_type": "code",
   "execution_count": 168,
   "id": "0fbca4ff",
   "metadata": {},
   "outputs": [
    {
     "data": {
      "text/plain": [
       "12"
      ]
     },
     "execution_count": 168,
     "metadata": {},
     "output_type": "execute_result"
    }
   ],
   "source": [
    "d.index('Hai')"
   ]
  },
  {
   "cell_type": "code",
   "execution_count": 169,
   "id": "f677db51",
   "metadata": {},
   "outputs": [
    {
     "data": {
      "text/plain": [
       "3"
      ]
     },
     "execution_count": 169,
     "metadata": {},
     "output_type": "execute_result"
    }
   ],
   "source": [
    "d[0]"
   ]
  },
  {
   "cell_type": "code",
   "execution_count": 135,
   "id": "6e1832b2",
   "metadata": {},
   "outputs": [
    {
     "name": "stdout",
     "output_type": "stream",
     "text": [
      "[1, 2, 3, 5, 'Happy', 'Happy', (7, 8, 9), {66, 77, 55}, 4, '1', ',', '2', ',', '3', 4, 'Hai', 12j, 12j, {4, 5}, 14j, [25, 26, 27], [25, 26, 27], [25, 26, 27], [25, 26, 27], '1', ',', '2', ',', '3']\n"
     ]
    }
   ],
   "source": [
    "d.insert(4,'Happy')\n",
    "print(d)"
   ]
  },
  {
   "cell_type": "code",
   "execution_count": null,
   "id": "1c35cd04",
   "metadata": {},
   "outputs": [],
   "source": [
    "Insert a given value at after the which index given."
   ]
  },
  {
   "cell_type": "code",
   "execution_count": 136,
   "id": "1e606dcd",
   "metadata": {},
   "outputs": [
    {
     "name": "stdout",
     "output_type": "stream",
     "text": [
      "[1, 2, 3, 5, 'Happy', (7, 8, 9), {66, 77, 55}, 4, '1', ',', '2', ',', '3', 4, 'Hai', 12j, 12j, {4, 5}, 14j, [25, 26, 27], [25, 26, 27], [25, 26, 27], [25, 26, 27], '1', ',', '2', ',', '3']\n"
     ]
    }
   ],
   "source": [
    "d.pop(4)\n",
    "print(d)"
   ]
  },
  {
   "cell_type": "code",
   "execution_count": 147,
   "id": "c1c46190",
   "metadata": {},
   "outputs": [
    {
     "name": "stdout",
     "output_type": "stream",
     "text": [
      "[3, 5, 'Happy', (7, 8, 9), {66, 77, 55}, 4, '1', ',', '2', ',', '3', 4, 'Hai', {4, 5}, 14j, [25, 26, 27], [25, 26, 27], [25, 26, 27], [25, 26, 27], '1', ',', '2', ',', '3']\n"
     ]
    }
   ],
   "source": [
    "d.remove(12j)\n",
    "print(d)"
   ]
  },
  {
   "cell_type": "code",
   "execution_count": null,
   "id": "97dde616",
   "metadata": {},
   "outputs": [],
   "source": [
    "Remove delete the first value of the list."
   ]
  },
  {
   "cell_type": "code",
   "execution_count": 152,
   "id": "497f3ce1",
   "metadata": {},
   "outputs": [
    {
     "name": "stdout",
     "output_type": "stream",
     "text": [
      "[3, 5, 'Happy', (7, 8, 9), {66, 77, 55}, 4, '1', ',', '2', ',', '3', 4, 'Hai', {4, 5}, 14j, [25, 26, 27], [25, 26, 27], [25, 26, 27], [25, 26, 27], '1', ',', '2', ',', '3']\n"
     ]
    }
   ],
   "source": [
    "d.reverse()\n",
    "print(d)"
   ]
  },
  {
   "cell_type": "code",
   "execution_count": null,
   "id": "c06c6ccc",
   "metadata": {},
   "outputs": [],
   "source": [
    "Reverse returns the list in the reverse order. "
   ]
  },
  {
   "cell_type": "code",
   "execution_count": 153,
   "id": "299c150e",
   "metadata": {},
   "outputs": [
    {
     "name": "stdout",
     "output_type": "stream",
     "text": [
      "\n"
     ]
    }
   ],
   "source": [
    "s=[1,5,6,3,2]\n",
    "s.sort()\n",
    "print()"
   ]
  },
  {
   "cell_type": "code",
   "execution_count": 172,
   "id": "16d58082",
   "metadata": {},
   "outputs": [
    {
     "name": "stdout",
     "output_type": "stream",
     "text": [
      "[6, 5, 3, 2, 1]\n"
     ]
    }
   ],
   "source": [
    "s.sort(reverse=True)\n",
    "print(s)"
   ]
  },
  {
   "cell_type": "code",
   "execution_count": 162,
   "id": "b091b5da",
   "metadata": {},
   "outputs": [
    {
     "name": "stdout",
     "output_type": "stream",
     "text": [
      "[1, 2, 3, 5, 6]\n"
     ]
    }
   ],
   "source": [
    "s.sort()\n",
    "print(s)"
   ]
  },
  {
   "cell_type": "code",
   "execution_count": null,
   "id": "de8027a4",
   "metadata": {},
   "outputs": [],
   "source": [
    "We can able to sort the int/float datatypes only.\n",
    "Not not able to sort other combinations. int  --> string.\n",
    "s.sort() Assending order\n",
    "s.sort(reverse=True) - Decesing Order"
   ]
  },
  {
   "cell_type": "code",
   "execution_count": 178,
   "id": "821e1cb5",
   "metadata": {},
   "outputs": [],
   "source": [
    "b=(1,1.2,3,4,5,'Tuple',(1,2,3),True,False)"
   ]
  },
  {
   "cell_type": "code",
   "execution_count": 179,
   "id": "5206a6df",
   "metadata": {},
   "outputs": [
    {
     "data": {
      "text/plain": [
       "1"
      ]
     },
     "execution_count": 179,
     "metadata": {},
     "output_type": "execute_result"
    }
   ],
   "source": [
    "b.count(4)"
   ]
  },
  {
   "cell_type": "code",
   "execution_count": 180,
   "id": "99cfbaa8",
   "metadata": {},
   "outputs": [
    {
     "data": {
      "text/plain": [
       "2"
      ]
     },
     "execution_count": 180,
     "metadata": {},
     "output_type": "execute_result"
    }
   ],
   "source": [
    "b.count(1)"
   ]
  },
  {
   "cell_type": "code",
   "execution_count": 181,
   "id": "eb1e85fe",
   "metadata": {},
   "outputs": [
    {
     "data": {
      "text/plain": [
       "1"
      ]
     },
     "execution_count": 181,
     "metadata": {},
     "output_type": "execute_result"
    }
   ],
   "source": [
    "b.count(0)"
   ]
  },
  {
   "cell_type": "code",
   "execution_count": null,
   "id": "6cee0a68",
   "metadata": {},
   "outputs": [],
   "source": [
    "Tuple is Immutable, We cant do any changes like add, edit or delete in the Item assigned.\n",
    "In Tuple returns the given values count.\n",
    "In Tuple True=0, False=0\n"
   ]
  },
  {
   "cell_type": "code",
   "execution_count": 182,
   "id": "a7f37ba4",
   "metadata": {},
   "outputs": [
    {
     "data": {
      "text/plain": [
       "5"
      ]
     },
     "execution_count": 182,
     "metadata": {},
     "output_type": "execute_result"
    }
   ],
   "source": [
    "b.index(\"Tuple\")"
   ]
  },
  {
   "cell_type": "code",
   "execution_count": null,
   "id": "af55c11a",
   "metadata": {},
   "outputs": [],
   "source": [
    "Reuturn the index value"
   ]
  },
  {
   "cell_type": "code",
   "execution_count": null,
   "id": "256325e5",
   "metadata": {},
   "outputs": [],
   "source": [
    "Set\n",
    "\n",
    "1. Delete the duplicate numbers\n",
    "2. Also ordered\n",
    "3. Not able to slice or Index so it is a Immutable\n"
   ]
  },
  {
   "cell_type": "code",
   "execution_count": 203,
   "id": "f885f41c",
   "metadata": {},
   "outputs": [
    {
     "name": "stdout",
     "output_type": "stream",
     "text": [
      "{1, 2, 3, 5}\n"
     ]
    }
   ],
   "source": [
    "a={1,2,3,5,2,1}\n",
    "print(a)"
   ]
  },
  {
   "cell_type": "code",
   "execution_count": 193,
   "id": "afd438b0",
   "metadata": {},
   "outputs": [
    {
     "name": "stdout",
     "output_type": "stream",
     "text": [
      "{1, 2, 3, 5, 10, 20}\n"
     ]
    }
   ],
   "source": [
    "a.add(10*2)\n",
    "print(a)"
   ]
  },
  {
   "cell_type": "code",
   "execution_count": 194,
   "id": "21cd5953",
   "metadata": {},
   "outputs": [
    {
     "name": "stdout",
     "output_type": "stream",
     "text": [
      "{3, 5, 6, 7, 8, 9}\n"
     ]
    }
   ],
   "source": [
    "b={9,6,3,5,7,8}\n",
    "print(b)"
   ]
  },
  {
   "cell_type": "code",
   "execution_count": 197,
   "id": "48ee87f6",
   "metadata": {},
   "outputs": [
    {
     "name": "stdout",
     "output_type": "stream",
     "text": [
      "set()\n"
     ]
    }
   ],
   "source": [
    "b.clear()\n",
    "print(b)"
   ]
  },
  {
   "cell_type": "code",
   "execution_count": 199,
   "id": "70236b8c",
   "metadata": {},
   "outputs": [
    {
     "name": "stdout",
     "output_type": "stream",
     "text": [
      "{1, 2, 3, 5, 10, 20}\n"
     ]
    }
   ],
   "source": [
    "a.copy()\n",
    "print(a)"
   ]
  },
  {
   "cell_type": "code",
   "execution_count": 200,
   "id": "f6b1b26b",
   "metadata": {},
   "outputs": [],
   "source": [
    "c={1,2,3,}"
   ]
  },
  {
   "cell_type": "code",
   "execution_count": 204,
   "id": "170a4856",
   "metadata": {},
   "outputs": [
    {
     "data": {
      "text/plain": [
       "{5}"
      ]
     },
     "execution_count": 204,
     "metadata": {},
     "output_type": "execute_result"
    }
   ],
   "source": [
    "a.difference(c)"
   ]
  },
  {
   "cell_type": "code",
   "execution_count": 205,
   "id": "a9ecbfac",
   "metadata": {},
   "outputs": [
    {
     "data": {
      "text/plain": [
       "{4}"
      ]
     },
     "execution_count": 205,
     "metadata": {},
     "output_type": "execute_result"
    }
   ],
   "source": [
    "c.difference(a)"
   ]
  },
  {
   "cell_type": "code",
   "execution_count": null,
   "id": "98c56628",
   "metadata": {},
   "outputs": [],
   "source": []
  },
  {
   "cell_type": "code",
   "execution_count": null,
   "id": "c0dc0c5f",
   "metadata": {},
   "outputs": [],
   "source": []
  },
  {
   "cell_type": "code",
   "execution_count": null,
   "id": "6cdbef4f",
   "metadata": {},
   "outputs": [],
   "source": []
  },
  {
   "cell_type": "code",
   "execution_count": null,
   "id": "771ecf5c",
   "metadata": {},
   "outputs": [],
   "source": []
  }
 ],
 "metadata": {
  "kernelspec": {
   "display_name": "Python 3 (ipykernel)",
   "language": "python",
   "name": "python3"
  },
  "language_info": {
   "codemirror_mode": {
    "name": "ipython",
    "version": 3
   },
   "file_extension": ".py",
   "mimetype": "text/x-python",
   "name": "python",
   "nbconvert_exporter": "python",
   "pygments_lexer": "ipython3",
   "version": "3.11.3"
  }
 },
 "nbformat": 4,
 "nbformat_minor": 5
}
